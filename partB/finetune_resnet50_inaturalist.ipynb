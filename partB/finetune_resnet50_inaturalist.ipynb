{
  "cells": [
    {
      "cell_type": "markdown",
      "metadata": {
        "id": "rlQkaBLLHN-U"
      },
      "source": [
        "# Q2. Fine-tuning a Pre-trained ResNet50 on iNaturalist (Subset)\n",
        "This notebook loads a pre-trained ResNet50 model from ImageNet, adapts it for the 10-class iNaturalist subset, and fine-tunes the model using two strategies with two-phases: first freezing the backbone, then unfreezing other layers."
      ],
      "id": "rlQkaBLLHN-U"
    },
    {
      "cell_type": "code",
      "source": [
        "!wget https://storage.googleapis.com/wandb_datasets/nature_12K.zip\n",
        "!unzip -q nature_12K.zip"
      ],
      "metadata": {
        "id": "KsJxEr0nHZXs"
      },
      "id": "KsJxEr0nHZXs",
      "execution_count": null,
      "outputs": []
    },
    {
      "cell_type": "code",
      "execution_count": null,
      "metadata": {
        "id": "gNlyvjprHN-a"
      },
      "outputs": [],
      "source": [
        "!pip install -q torch torchvision"
      ],
      "id": "gNlyvjprHN-a"
    },
    {
      "cell_type": "code",
      "execution_count": null,
      "metadata": {
        "id": "HcA__0lxHN-g"
      },
      "outputs": [],
      "source": [
        "import torch\n",
        "import torch.nn as nn\n",
        "from torch.utils.data import DataLoader\n",
        "from torchvision import datasets, transforms, models\n",
        "import os"
      ],
      "id": "HcA__0lxHN-g"
    },
    {
      "cell_type": "code",
      "execution_count": null,
      "metadata": {
        "id": "1b6Dt83fHN-h"
      },
      "outputs": [],
      "source": [
        "device = torch.device('cuda' if torch.cuda.is_available() else 'cpu')\n",
        "print(f'Using device: {device}')"
      ],
      "id": "1b6Dt83fHN-h"
    },
    {
      "cell_type": "code",
      "execution_count": null,
      "metadata": {
        "id": "xG7MEb4NHN-i"
      },
      "outputs": [],
      "source": [
        "# Transforms\n",
        "IMG_SIZE = 224\n",
        "BATCH_SIZE = 32\n",
        "imagenet_mean = [0.485, 0.456, 0.406]\n",
        "imagenet_std  = [0.229, 0.224, 0.225]\n",
        "train_transform = transforms.Compose([\n",
        "    transforms.Resize((IMG_SIZE, IMG_SIZE)),\n",
        "    transforms.RandomHorizontalFlip(),\n",
        "    transforms.ToTensor(),\n",
        "    transforms.Normalize(mean=imagenet_mean, std=imagenet_std),\n",
        "])\n",
        "val_transform = transforms.Compose([\n",
        "    transforms.Resize((IMG_SIZE, IMG_SIZE)),\n",
        "    transforms.ToTensor(),\n",
        "    transforms.Normalize(mean=imagenet_mean, std=imagenet_std),\n",
        "])"
      ],
      "id": "xG7MEb4NHN-i"
    },
    {
      "cell_type": "code",
      "execution_count": null,
      "metadata": {
        "id": "89TII9KpHN-j"
      },
      "outputs": [],
      "source": [
        "# Dataset\n",
        "data_dir = '/content/inaturalist_12K'\n",
        "train_dataset = datasets.ImageFolder(os.path.join(data_dir, 'train'), transform=train_transform)\n",
        "val_dataset = datasets.ImageFolder(os.path.join(data_dir, 'val'), transform=val_transform)\n",
        "train_loader = DataLoader(train_dataset, batch_size=BATCH_SIZE, shuffle=True, num_workers=2)\n",
        "val_loader = DataLoader(val_dataset, batch_size=BATCH_SIZE, shuffle=False, num_workers=2)\n",
        "num_classes = len(train_dataset.classes)"
      ],
      "id": "89TII9KpHN-j"
    },
    {
      "cell_type": "code",
      "execution_count": null,
      "metadata": {
        "id": "F6wv5azPHN-k"
      },
      "outputs": [],
      "source": [
        "# Load pre-trained model and modify final layer\n",
        "model = models.resnet50(pretrained=True)\n",
        "in_features = model.fc.in_features\n",
        "model.fc = nn.Linear(in_features, num_classes)\n",
        "model = model.to(device)"
      ],
      "id": "F6wv5azPHN-k"
    },
    {
      "cell_type": "markdown",
      "source": [
        "### Strategy 1: Fine Tuning Entire Model"
      ],
      "metadata": {
        "id": "QMQa3-acQp18"
      },
      "id": "QMQa3-acQp18"
    },
    {
      "cell_type": "code",
      "execution_count": null,
      "metadata": {
        "id": "tu7wR1FcHN-l"
      },
      "outputs": [],
      "source": [
        "# Training utilities\n",
        "criterion = nn.CrossEntropyLoss()\n",
        "def train_one_epoch(model, loader, optimizer):\n",
        "    model.train()\n",
        "    total_loss, total_correct = 0, 0\n",
        "    for images, labels in loader:\n",
        "        images, labels = images.to(device), labels.to(device)\n",
        "        optimizer.zero_grad()\n",
        "        outputs = model(images)\n",
        "        loss = criterion(outputs, labels)\n",
        "        loss.backward()\n",
        "        optimizer.step()\n",
        "        total_loss += loss.item() * images.size(0)\n",
        "        total_correct += (outputs.argmax(1) == labels).sum().item()\n",
        "    return total_loss / len(loader.dataset), total_correct / len(loader.dataset)\n",
        "\n",
        "def validate(model, loader):\n",
        "    model.eval()\n",
        "    total_loss, total_correct = 0, 0\n",
        "    with torch.no_grad():\n",
        "        for images, labels in loader:\n",
        "            images, labels = images.to(device), labels.to(device)\n",
        "            outputs = model(images)\n",
        "            loss = criterion(outputs, labels)\n",
        "            total_loss += loss.item() * images.size(0)\n",
        "            total_correct += (outputs.argmax(1) == labels).sum().item()\n",
        "    return total_loss / len(loader.dataset), total_correct / len(loader.dataset)"
      ],
      "id": "tu7wR1FcHN-l"
    },
    {
      "cell_type": "code",
      "execution_count": null,
      "metadata": {
        "id": "bMdbvwz9HN-m"
      },
      "outputs": [],
      "source": [
        "# Stage 1: Train only classifier layer\n",
        "for param in model.parameters():\n",
        "    param.requires_grad = False\n",
        "for param in model.fc.parameters():\n",
        "    param.requires_grad = True\n",
        "\n",
        "optimizer = torch.optim.Adam(model.fc.parameters(), lr=1e-3)\n",
        "for epoch in range(3):\n",
        "    train_loss, train_acc = train_one_epoch(model, train_loader, optimizer)\n",
        "    val_loss, val_acc = validate(model, val_loader)\n",
        "    print(f'[Stage 1 - Epoch {epoch+1}] Train Acc: {train_acc:.4f}, Val Acc: {val_acc:.4f}')"
      ],
      "id": "bMdbvwz9HN-m"
    },
    {
      "cell_type": "code",
      "execution_count": null,
      "metadata": {
        "id": "koCYTU2DHN-n"
      },
      "outputs": [],
      "source": [
        "# Stage 2: Fine-tune entire model\n",
        "for param in model.parameters():\n",
        "    param.requires_grad = True\n",
        "optimizer = torch.optim.Adam(model.parameters(), lr=1e-4)\n",
        "for epoch in range(5):\n",
        "    train_loss, train_acc = train_one_epoch(model, train_loader, optimizer)\n",
        "    val_loss, val_acc = validate(model, val_loader)\n",
        "    print(f'[Stage 2 - Epoch {epoch+1}] Train Acc: {train_acc:.4f}, Val Acc: {val_acc:.4f}')"
      ],
      "id": "koCYTU2DHN-n"
    },
    {
      "cell_type": "markdown",
      "source": [
        "## Strategy 2"
      ],
      "metadata": {
        "id": "LzqWP_CHQKVn"
      },
      "id": "LzqWP_CHQKVn"
    },
    {
      "cell_type": "code",
      "source": [
        "import os, time"
      ],
      "metadata": {
        "id": "K-nXciJLQ2hq"
      },
      "id": "K-nXciJLQ2hq",
      "execution_count": null,
      "outputs": []
    },
    {
      "cell_type": "code",
      "source": [
        "# Freeze all layers first\n",
        "for param in model.parameters():\n",
        "    param.requires_grad = False\n",
        "\n",
        "# Unfreeze layer4 and fc\n",
        "for name, param in model.named_parameters():\n",
        "    if \"layer4\" in name or \"fc\" in name:\n",
        "        param.requires_grad = True"
      ],
      "metadata": {
        "id": "1v11kVGoQaY3"
      },
      "id": "1v11kVGoQaY3",
      "execution_count": null,
      "outputs": []
    },
    {
      "cell_type": "code",
      "source": [
        "# Training logic with logging\n",
        "criterion = nn.CrossEntropyLoss()\n",
        "\n",
        "def train_one_epoch(model, loader, optimizer, epoch=0, log_every=20):\n",
        "    model.train()\n",
        "    total_loss, total_correct = 0, 0\n",
        "    start_time = time.time()\n",
        "    for batch_idx, (images, labels) in enumerate(loader):\n",
        "        images, labels = images.to(device), labels.to(device)\n",
        "        outputs = model(images)\n",
        "        loss = criterion(outputs, labels)\n",
        "        optimizer.zero_grad()\n",
        "        loss.backward()\n",
        "        optimizer.step()\n",
        "        total_loss += loss.item() * images.size(0)\n",
        "        total_correct += (outputs.argmax(1) == labels).sum().item()\n",
        "        if (batch_idx + 1) % log_every == 0:\n",
        "            print(f\"[Epoch {epoch+1} | Batch {batch_idx+1}/{len(loader)}] Loss: {loss.item():.4f}\")\n",
        "    avg_loss = total_loss / len(loader.dataset)\n",
        "    accuracy = total_correct / len(loader.dataset)\n",
        "    print(f\"[Epoch {epoch+1}] Train Loss: {avg_loss:.4f}, Train Acc: {accuracy:.4f}, Time: {time.time()-start_time:.2f}s\")\n",
        "    return avg_loss, accuracy\n",
        "\n",
        "def validate(model, loader, epoch=0):\n",
        "    model.eval()\n",
        "    total_loss, total_correct = 0, 0\n",
        "    start_time = time.time()\n",
        "    with torch.no_grad():\n",
        "        for images, labels in loader:\n",
        "            images, labels = images.to(device), labels.to(device)\n",
        "            outputs = model(images)\n",
        "            loss = criterion(outputs, labels)\n",
        "            total_loss += loss.item() * images.size(0)\n",
        "            total_correct += (outputs.argmax(1) == labels).sum().item()\n",
        "    avg_loss = total_loss / len(loader.dataset)\n",
        "    accuracy = total_correct / len(loader.dataset)\n",
        "    print(f\"[Validation] Val Loss: {avg_loss:.4f}, Val Acc: {accuracy:.4f}, Time: {time.time()-start_time:.2f}s\")\n",
        "    return avg_loss, accuracy\n"
      ],
      "metadata": {
        "id": "e2FYanFsQdVP"
      },
      "id": "e2FYanFsQdVP",
      "execution_count": null,
      "outputs": []
    },
    {
      "cell_type": "code",
      "source": [
        "# Phase 1: Train only layer4\n",
        "optimizer = torch.optim.Adam(filter(lambda p: p.requires_grad, model.parameters()), lr=1e-4)\n",
        "for epoch in range(3):\n",
        "    train_loss, train_acc = train_one_epoch(model, train_loader, optimizer, epoch=epoch)\n",
        "    val_loss, val_acc = validate(model, val_loader, epoch=epoch)"
      ],
      "metadata": {
        "id": "CkL0WOTxQfOI"
      },
      "id": "CkL0WOTxQfOI",
      "execution_count": null,
      "outputs": []
    },
    {
      "cell_type": "code",
      "source": [
        "# Phase 2: Unfreeze all and fine-tune further\n",
        "for param in model.parameters():\n",
        "    param.requires_grad = True\n",
        "\n",
        "optimizer = torch.optim.Adam(model.parameters(), lr=1e-5)\n",
        "for epoch in range(3, 6):\n",
        "    train_loss, train_acc = train_one_epoch(model, train_loader, optimizer, epoch=epoch)\n",
        "    val_loss, val_acc = validate(model, val_loader, epoch=epoch)"
      ],
      "metadata": {
        "id": "FoQYMMBvQiUc"
      },
      "id": "FoQYMMBvQiUc",
      "execution_count": null,
      "outputs": []
    }
  ],
  "metadata": {
    "kernelspec": {
      "display_name": "Python 3",
      "name": "python3"
    },
    "language_info": {
      "name": "python",
      "version": "3.10"
    },
    "colab": {
      "provenance": [],
      "gpuType": "T4"
    },
    "accelerator": "GPU"
  },
  "nbformat": 4,
  "nbformat_minor": 5
}